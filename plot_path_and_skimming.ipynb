{
 "cells": [
  {
   "cell_type": "markdown",
   "metadata": {},
   "source": [
    "\n",
    "\n",
    "# Path and skimming\n",
    "\n",
    "In this example, we show how to perform path computation and network skimming\n",
    "for the Sioux Falls example model.\n"
   ]
  },
  {
   "cell_type": "code",
   "execution_count": 1,
   "metadata": {
    "collapsed": false,
    "jupyter": {
     "outputs_hidden": false
    },
    "tags": []
   },
   "outputs": [],
   "source": [
    "# Imports\n",
    "from uuid import uuid4\n",
    "from tempfile import gettempdir\n",
    "from os.path import join\n",
    "from aequilibrae.utils.create_example import create_example\n",
    "\n",
    "# We create the example project inside our temp folder\n",
    "fldr = join(gettempdir(), uuid4().hex)\n",
    "\n",
    "project = create_example(fldr)"
   ]
  },
  {
   "cell_type": "code",
   "execution_count": 2,
   "metadata": {
    "collapsed": false,
    "jupyter": {
     "outputs_hidden": false
    },
    "tags": []
   },
   "outputs": [],
   "source": [
    "import logging\n",
    "import sys\n",
    "\n",
    "# We the project opens, we can tell the logger to direct all messages to the terminal as well\n",
    "logger = project.logger\n",
    "stdout_handler = logging.StreamHandler(sys.stdout)\n",
    "formatter = logging.Formatter(\"%(asctime)s;%(levelname)s ; %(message)s\")\n",
    "stdout_handler.setFormatter(formatter)\n",
    "logger.addHandler(stdout_handler)"
   ]
  },
  {
   "cell_type": "markdown",
   "metadata": {},
   "source": [
    "## Path Computation\n",
    "\n"
   ]
  },
  {
   "cell_type": "code",
   "execution_count": 3,
   "metadata": {
    "collapsed": false,
    "jupyter": {
     "outputs_hidden": false
    },
    "tags": []
   },
   "outputs": [],
   "source": [
    "from aequilibrae.paths import PathResults"
   ]
  },
  {
   "cell_type": "markdown",
   "metadata": {},
   "source": [
    "We build all graphs\n",
    "\n"
   ]
  },
  {
   "cell_type": "code",
   "execution_count": 4,
   "metadata": {
    "collapsed": false,
    "jupyter": {
     "outputs_hidden": false
    },
    "tags": []
   },
   "outputs": [
    {
     "name": "stdout",
     "output_type": "stream",
     "text": [
      "2023-05-03 15:49:32,700;WARNING ; Field(s) name, lanes has(ve) at least one NaN value. Check your computations\n",
      "2023-05-03 15:49:32,740;WARNING ; Field(s) name, lanes has(ve) at least one NaN value. Check your computations\n",
      "2023-05-03 15:49:32,760;WARNING ; Field(s) name, lanes has(ve) at least one NaN value. Check your computations\n",
      "2023-05-03 15:49:32,779;WARNING ; Field(s) name, lanes has(ve) at least one NaN value. Check your computations\n",
      "2023-05-03 15:49:32,798;WARNING ; Field(s) name, lanes has(ve) at least one NaN value. Check your computations\n",
      "2023-05-03 15:49:32,817;WARNING ; Field(s) name, lanes has(ve) at least one NaN value. Check your computations\n"
     ]
    }
   ],
   "source": [
    "project.network.build_graphs()\n",
    "# We get warnings that several fields in the project are filled with NaNs. \n",
    "# This is true, but we won't use those fields."
   ]
  },
  {
   "cell_type": "markdown",
   "metadata": {},
   "source": [
    "We grab the graph for cars\n",
    "\n"
   ]
  },
  {
   "cell_type": "code",
   "execution_count": 5,
   "metadata": {
    "collapsed": false,
    "jupyter": {
     "outputs_hidden": false
    },
    "tags": []
   },
   "outputs": [],
   "source": [
    "graph = project.network.graphs[\"c\"]\n",
    "\n",
    "# we also see what graphs are available\n",
    "# project.network.graphs.keys()\n",
    "\n",
    "# let's say we want to minimize the distance\n",
    "graph.set_graph(\"distance\")\n",
    "\n",
    "# And will skim time and distance while we are at it\n",
    "graph.set_skimming([\"free_flow_time\", \"distance\"])\n",
    "\n",
    "# And we will allow paths to be computed going through other centroids/centroid connectors\n",
    "# required for the Sioux Falls network, as all nodes are centroids\n",
    "# BE CAREFUL WITH THIS SETTING\n",
    "graph.set_blocked_centroid_flows(False)"
   ]
  },
  {
   "cell_type": "markdown",
   "metadata": {},
   "source": [
    "Let's instantiate a path results object and prepare it to work with the graph\n",
    "\n"
   ]
  },
  {
   "cell_type": "code",
   "execution_count": 6,
   "metadata": {
    "collapsed": false,
    "jupyter": {
     "outputs_hidden": false
    },
    "tags": []
   },
   "outputs": [],
   "source": [
    "res = PathResults()\n",
    "res.prepare(graph)\n",
    "\n",
    "# compute a path from node 8 to 13\n",
    "res.compute_path(8, 4)"
   ]
  },
  {
   "cell_type": "code",
   "execution_count": 7,
   "metadata": {
    "collapsed": false,
    "jupyter": {
     "outputs_hidden": false
    },
    "tags": []
   },
   "outputs": [
    {
     "data": {
      "text/plain": [
       "array([8, 9, 5, 4])"
      ]
     },
     "execution_count": 7,
     "metadata": {},
     "output_type": "execute_result"
    }
   ],
   "source": [
    "# We can get the sequence of nodes we traverse\n",
    "res.path_nodes"
   ]
  },
  {
   "cell_type": "code",
   "execution_count": 8,
   "metadata": {
    "collapsed": false,
    "jupyter": {
     "outputs_hidden": false
    },
    "tags": []
   },
   "outputs": [
    {
     "data": {
      "text/plain": [
       "array([21, 23, 11])"
      ]
     },
     "execution_count": 8,
     "metadata": {},
     "output_type": "execute_result"
    }
   ],
   "source": [
    "# We can get the link sequence we traverse\n",
    "res.path"
   ]
  },
  {
   "cell_type": "code",
   "execution_count": 9,
   "metadata": {
    "collapsed": false,
    "jupyter": {
     "outputs_hidden": false
    },
    "tags": []
   },
   "outputs": [
    {
     "data": {
      "text/plain": [
       "array([   0.        , 2213.32449172, 3927.86012613, 5188.91313598])"
      ]
     },
     "execution_count": 9,
     "metadata": {},
     "output_type": "execute_result"
    }
   ],
   "source": [
    "# We can get the mileposts for our sequence of nodes\n",
    "res.milepost"
   ]
  },
  {
   "cell_type": "code",
   "execution_count": 10,
   "metadata": {
    "collapsed": false,
    "jupyter": {
     "outputs_hidden": false
    },
    "tags": []
   },
   "outputs": [],
   "source": [
    "# If we want to compute the path for a different destination and the same origin, we can just do this\n",
    "# It is way faster when you have large networks\n",
    "res.update_trace(13)"
   ]
  },
  {
   "cell_type": "code",
   "execution_count": 11,
   "metadata": {
    "collapsed": false,
    "jupyter": {
     "outputs_hidden": false
    },
    "tags": []
   },
   "outputs": [
    {
     "data": {
      "text/plain": [
       "array([ 8,  9, 10, 15, 22, 21, 24, 13])"
      ]
     },
     "execution_count": 11,
     "metadata": {},
     "output_type": "execute_result"
    }
   ],
   "source": [
    "res.path_nodes"
   ]
  },
  {
   "cell_type": "markdown",
   "metadata": {},
   "source": [
    "If you want to show the path in Python\n",
    "We do NOT recommend this, though....  It is very slow for real networks\n",
    "\n"
   ]
  },
  {
   "cell_type": "code",
   "execution_count": 12,
   "metadata": {
    "collapsed": false,
    "jupyter": {
     "outputs_hidden": false
    },
    "tags": []
   },
   "outputs": [],
   "source": [
    "import matplotlib.pyplot as plt\n",
    "from shapely.ops import linemerge"
   ]
  },
  {
   "cell_type": "code",
   "execution_count": 13,
   "metadata": {
    "collapsed": false,
    "jupyter": {
     "outputs_hidden": false
    },
    "tags": []
   },
   "outputs": [
    {
     "data": {
      "image/png": "[encoded data removed]",
      "text/plain": [
       "<Figure size 640x480 with 1 Axes>"
      ]
     },
     "metadata": {},
     "output_type": "display_data"
    }
   ],
   "source": [
    "links = project.network.links\n",
    "\n",
    "# We plot the entire network\n",
    "curr = project.conn.cursor()\n",
    "curr.execute(\"Select link_id from links;\")\n",
    "\n",
    "for lid in curr.fetchall():\n",
    "    geo = links.get(lid[0]).geometry\n",
    "    plt.plot(*geo.xy, color=\"red\")\n",
    "\n",
    "path_geometry = linemerge(links.get(lid).geometry for lid in res.path)\n",
    "plt.plot(*path_geometry.xy, color=\"blue\", linestyle=\"dashed\", linewidth=2)\n",
    "plt.show()"
   ]
  },
  {
   "cell_type": "markdown",
   "metadata": {},
   "source": [
    "## Now to skimming\n",
    "\n"
   ]
  },
  {
   "cell_type": "code",
   "execution_count": 14,
   "metadata": {
    "collapsed": false,
    "jupyter": {
     "outputs_hidden": false
    },
    "tags": []
   },
   "outputs": [],
   "source": [
    "from aequilibrae.paths import NetworkSkimming"
   ]
  },
  {
   "cell_type": "markdown",
   "metadata": {},
   "source": [
    "But let's say we only want a skim matrix for nodes 1, 3, 6 & 8\n",
    "\n"
   ]
  },
  {
   "cell_type": "code",
   "execution_count": 15,
   "metadata": {
    "collapsed": false,
    "jupyter": {
     "outputs_hidden": false
    },
    "tags": []
   },
   "outputs": [
    {
     "name": "stdout",
     "output_type": "stream",
     "text": [
      "2023-05-03 15:49:52,997;WARNING ; Field(s) name, lanes has(ve) at least one NaN value. Check your computations\n"
     ]
    }
   ],
   "source": [
    "import numpy as np\n",
    "\n",
    "graph.prepare_graph(np.array([1, 3, 6, 8]))"
   ]
  },
  {
   "cell_type": "code",
   "execution_count": 16,
   "metadata": {
    "collapsed": false,
    "jupyter": {
     "outputs_hidden": false
    },
    "tags": []
   },
   "outputs": [],
   "source": [
    "# And run the skimming\n",
    "skm = NetworkSkimming(graph)\n",
    "skm.execute()"
   ]
  },
  {
   "cell_type": "markdown",
   "metadata": {},
   "source": [
    "The result is an AequilibraEMatrix object\n",
    "\n"
   ]
  },
  {
   "cell_type": "code",
   "execution_count": 17,
   "metadata": {
    "collapsed": false,
    "jupyter": {
     "outputs_hidden": false
    },
    "tags": []
   },
   "outputs": [
    {
     "data": {
      "text/plain": [
       "array([[[0.00000000e+00, 0.00000000e+00],\n",
       "        [6.00000000e+00, 4.84008627e+03],\n",
       "        [9.00000000e+00, 6.46536178e+03],\n",
       "        [1.30000000e+01, 8.88889720e+03]],\n",
       "\n",
       "       [[6.00000000e+00, 4.84008627e+03],\n",
       "        [0.00000000e+00, 0.00000000e+00],\n",
       "        [9.00000000e+00, 6.73286110e+03],\n",
       "        [2.10000000e+01, 6.82126560e+03]],\n",
       "\n",
       "       [[9.00000000e+00, 4.97310839e+03],\n",
       "        [1.00000000e+01, 8.30423993e+03],\n",
       "        [0.00000000e+00, 0.00000000e+00],\n",
       "        [4.00000000e+00, 2.42353542e+03]],\n",
       "\n",
       "       [[1.10000000e+01, 6.23416140e+03],\n",
       "        [2.00000000e+01, 8.12432422e+03],\n",
       "        [2.00000000e+00, 1.26105301e+03],\n",
       "        [0.00000000e+00, 0.00000000e+00]]])"
      ]
     },
     "execution_count": 17,
     "metadata": {},
     "output_type": "execute_result"
    }
   ],
   "source": [
    "skims = skm.results.skims\n",
    "\n",
    "# Which we can manipulate directly from its temp file, if we wish\n",
    "skims.matrices"
   ]
  },
  {
   "cell_type": "code",
   "execution_count": 18,
   "metadata": {
    "collapsed": false,
    "jupyter": {
     "outputs_hidden": false
    },
    "tags": []
   },
   "outputs": [
    {
     "data": {
      "text/plain": [
       "array([[ 0.,  6.,  9., 13.],\n",
       "       [ 6.,  0.,  9., 21.],\n",
       "       [ 9., 10.,  0.,  4.],\n",
       "       [11., 20.,  2.,  0.]])"
      ]
     },
     "execution_count": 18,
     "metadata": {},
     "output_type": "execute_result"
    }
   ],
   "source": [
    "# Or access each matrix\n",
    "skims.free_flow_time"
   ]
  },
  {
   "cell_type": "code",
   "execution_count": 19,
   "metadata": {
    "collapsed": false,
    "jupyter": {
     "outputs_hidden": false
    },
    "tags": []
   },
   "outputs": [
    {
     "name": "stdout",
     "output_type": "stream",
     "text": [
      "2023-05-03 15:49:58,205;WARNING ; Matrix Record has been saved to the database\n"
     ]
    }
   ],
   "source": [
    "# We can save it to the project if we want\n",
    "skm.save_to_project(\"base_skims\")\n",
    "\n",
    "# We can also retrieve this skim record to write something to its description\n",
    "matrices = project.matrices\n",
    "mat_record = matrices.get_record(\"base_skims\")\n",
    "mat_record.description = \"minimized FF travel time while also skimming distance for just a few nodes\"\n",
    "mat_record.save()"
   ]
  },
  {
   "cell_type": "code",
   "execution_count": 20,
   "metadata": {
    "collapsed": false,
    "jupyter": {
     "outputs_hidden": false
    },
    "tags": []
   },
   "outputs": [],
   "source": [
    "project.close()"
   ]
  },
  {
   "cell_type": "code",
   "execution_count": null,
   "metadata": {},
   "outputs": [],
   "source": []
  }
 ],
 "metadata": {
  "kernelspec": {
   "display_name": "Python 3 (ipykernel)",
   "language": "python",
   "name": "python3"
  },
  "language_info": {
   "codemirror_mode": {
    "name": "ipython",
    "version": 3
   },
   "file_extension": ".py",
   "mimetype": "text/x-python",
   "name": "python",
   "nbconvert_exporter": "python",
   "pygments_lexer": "ipython3",
   "version": "3.11.2"
  }
 },
 "nbformat": 4,
 "nbformat_minor": 4
}
