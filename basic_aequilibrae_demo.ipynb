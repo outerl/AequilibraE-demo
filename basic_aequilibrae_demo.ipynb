{
 "cells": [
  {
   "attachments": {},
   "cell_type": "markdown",
   "metadata": {},
   "source": [
    "\n",
    "\n",
    "# Basic AequilibraE use\n",
    "\n",
    "In this example, we grab a pre-existing model and do the following:\n",
    "\n",
    "* Add new fields to the network\n",
    "* Export existing matrices to OMX\n",
    "* Perform Skimming\n",
    "* Perform Assignment\n"
   ]
  },
  {
   "attachments": {},
   "cell_type": "markdown",
   "metadata": {},
   "source": [
    "### Before we begin\n",
    "Let's make a copy of the model so we can make the changes we want without overwriting the original model"
   ]
  },
  {
   "cell_type": "code",
   "execution_count": 1,
   "metadata": {},
   "outputs": [
    {
     "data": {
      "text/plain": [
       "'C:\\\\Users\\\\Pedro\\\\AppData\\\\Local\\\\Temp\\\\_model_experiments'"
      ]
     },
     "execution_count": 1,
     "metadata": {},
     "output_type": "execute_result"
    }
   ],
   "source": [
    "import shutil\n",
    "\n",
    "base_pth = r\"G:\\My Drive\\DATA\\Pedro\\Research\\CONFERENCES\\TRB ITM\\2023\\LongAn_base_model\"\n",
    "model_path = r\"C:\\Users\\Pedro\\AppData\\Local\\Temp\\_model_experiments\"\n",
    "\n",
    "shutil.rmtree(model_path,ignore_errors=True)\n",
    "shutil.copytree(base_pth, model_path)"
   ]
  },
  {
   "attachments": {},
   "cell_type": "markdown",
   "metadata": {},
   "source": [
    "## Let's do some modeling"
   ]
  },
  {
   "cell_type": "code",
   "execution_count": 2,
   "metadata": {
    "collapsed": false,
    "jupyter": {
     "outputs_hidden": false
    },
    "tags": []
   },
   "outputs": [],
   "source": [
    "# Imports\n",
    "from os.path import join\n",
    "from aequilibrae import Project"
   ]
  },
  {
   "cell_type": "code",
   "execution_count": 3,
   "metadata": {},
   "outputs": [],
   "source": [
    "# from aequilibrae.matrix import AequilibraeMatrix\n",
    "\n",
    "# mat = AequilibraeMatrix()\n",
    "# mat.load(join(base_pth, \"matrices\", \"cvts_trips.aem\"))\n",
    "# mat.names\n",
    "# mat2 = AequilibraeMatrix()\n",
    "# mat2.create_empty(file_name=join(base_pth, \"matrices\", \"base_demand.aem\"),\n",
    "#                   zones=mat.zones,\n",
    "#                   matrix_names=[\"red_cars_AM\", \"blue_cars_AM\", \"Trucks_AM\", \"red_cars_MD\", \"blue_cars_MD\", \"Trucks_MD\", \"red_cars_PM\", \"blue_cars_PM\", \"Trucks_PM\"],\n",
    "#                   index_names=[\"zones\"])\n",
    "\n",
    "# mat2.matrices[:,:,0] = mat.vehicle_type_1\n",
    "# mat2.matrices[:,:,1] = mat.vehicle_type_6\n",
    "# mat2.matrices[:,:,2] = mat.vehicle_type_10 / 2.5\n",
    "# mat2.matrices[:,:,3] = mat.vehicle_type_2\n",
    "# mat2.matrices[:,:,4] = mat.vehicle_type_3\n",
    "# mat2.matrices[:,:,5] = mat.vehicle_type_4 / 5\n",
    "# mat2.matrices[:,:,6] = mat.vehicle_type_5\n",
    "# mat2.matrices[:,:,7] = mat.vehicle_type_7\n",
    "# mat2.matrices[:,:,8] = mat.vehicle_type_8 / 2\n",
    "# mat2.index[:] = mat.index[:]\n",
    "# mat2.export(join(base_pth, \"matrices\", \"base_demand.aem\"))\n",
    "# print(mat.matrices.sum())\n",
    "# mat.close()\n",
    "# mat2.close()"
   ]
  },
  {
   "cell_type": "code",
   "execution_count": 4,
   "metadata": {},
   "outputs": [],
   "source": [
    "# We open a project\n",
    "project = Project.from_path(model_path)"
   ]
  },
  {
   "attachments": {},
   "cell_type": "markdown",
   "metadata": {},
   "source": [
    "## Model stats"
   ]
  },
  {
   "cell_type": "code",
   "execution_count": 5,
   "metadata": {},
   "outputs": [
    {
     "name": "stdout",
     "output_type": "stream",
     "text": [
      "Links: 384,122\n",
      "Nodes: 369,872\n",
      "Zones: 698\n"
     ]
    }
   ],
   "source": [
    "print(f\"Links: {project.network.count_links():,}\")\n",
    "print(f\"Nodes: {project.network.count_nodes():,}\")\n",
    "print(f\"Zones: {project.network.count_centroids():,}\")"
   ]
  },
  {
   "attachments": {},
   "cell_type": "markdown",
   "metadata": {},
   "source": [
    "Let's see which fields we have in our links layer"
   ]
  },
  {
   "cell_type": "code",
   "execution_count": 6,
   "metadata": {},
   "outputs": [
    {
     "data": {
      "text/plain": [
       "['a_node',\n",
       " 'b_node',\n",
       " 'direction',\n",
       " 'distance',\n",
       " 'link_id',\n",
       " 'link_type',\n",
       " 'modes',\n",
       " 'name',\n",
       " 'speed',\n",
       " 'capacity',\n",
       " 'lanes',\n",
       " 'geometry',\n",
       " 'osm_id']"
      ]
     },
     "execution_count": 6,
     "metadata": {},
     "output_type": "execute_result"
    }
   ],
   "source": [
    "project.network.links.fields.all_fields()"
   ]
  },
  {
   "attachments": {},
   "cell_type": "markdown",
   "metadata": {},
   "source": [
    "We are missing travel time. Let's add it"
   ]
  },
  {
   "cell_type": "code",
   "execution_count": 7,
   "metadata": {},
   "outputs": [],
   "source": [
    "fields = project.network.links.fields\n",
    "fields.add(\"ff_ttime_ab\", description=\"AB Free flow travel time\")\n",
    "fields.add(\"ff_ttime_ba\", description=\"BA Free flow travel time\")\n",
    "fields.save()"
   ]
  },
  {
   "cell_type": "code",
   "execution_count": 8,
   "metadata": {},
   "outputs": [
    {
     "data": {
      "text/plain": [
       "['a_node',\n",
       " 'b_node',\n",
       " 'capacity',\n",
       " 'direction',\n",
       " 'distance',\n",
       " 'geometry',\n",
       " 'lanes',\n",
       " 'link_id',\n",
       " 'link_type',\n",
       " 'modes',\n",
       " 'name',\n",
       " 'osm_id',\n",
       " 'speed',\n",
       " 'ff_ttime']"
      ]
     },
     "execution_count": 8,
     "metadata": {},
     "output_type": "execute_result"
    }
   ],
   "source": [
    "project.network.links.fields.all_fields()"
   ]
  },
  {
   "attachments": {},
   "cell_type": "markdown",
   "metadata": {},
   "source": [
    "#### Let's use some SQL to compute these fields\n",
    "\n",
    "Speeds are in KM/h and distances are ALWAYS in meters in AequilibraE\n"
   ]
  },
  {
   "cell_type": "code",
   "execution_count": 9,
   "metadata": {},
   "outputs": [
    {
     "name": "stdout",
     "output_type": "stream",
     "text": [
      "CPU times: total: 703 ms\n",
      "Wall time: 2.03 s\n"
     ]
    }
   ],
   "source": [
    "%%time\n",
    "sql = \"\"\"Update links set ff_ttime_ab=(distance/1000)/speed_ab * 60, \n",
    "                          ff_ttime_ba=(distance/1000)/speed_ab * 60\"\"\"\n",
    "project.conn.execute(sql)\n",
    "project.conn.commit()"
   ]
  },
  {
   "attachments": {},
   "cell_type": "markdown",
   "metadata": {},
   "source": [
    "## Computes Graph\n",
    "\n"
   ]
  },
  {
   "cell_type": "code",
   "execution_count": 10,
   "metadata": {
    "collapsed": false,
    "jupyter": {
     "outputs_hidden": false
    },
    "tags": []
   },
   "outputs": [
    {
     "name": "stdout",
     "output_type": "stream",
     "text": [
      "CPU times: total: 1.39 s\n",
      "Wall time: 3.97 s\n"
     ]
    }
   ],
   "source": [
    "%%time\n",
    "project.network.build_graphs(modes=[\"c\"])"
   ]
  },
  {
   "cell_type": "code",
   "execution_count": 11,
   "metadata": {},
   "outputs": [],
   "source": [
    "graph = project.network.graphs[\"c\"]\n",
    "graph.set_graph(\"ff_ttime\")\n",
    "graph.set_skimming([\"distance\", \"ff_ttime\"])"
   ]
  },
  {
   "attachments": {},
   "cell_type": "markdown",
   "metadata": {},
   "source": [
    "## Skimming"
   ]
  },
  {
   "cell_type": "code",
   "execution_count": 12,
   "metadata": {},
   "outputs": [],
   "source": [
    "from aequilibrae.paths import NetworkSkimming"
   ]
  },
  {
   "cell_type": "code",
   "execution_count": 13,
   "metadata": {},
   "outputs": [
    {
     "name": "stdout",
     "output_type": "stream",
     "text": [
      "CPU times: total: 8.31 s\n",
      "Wall time: 805 ms\n"
     ]
    }
   ],
   "source": [
    "%%time\n",
    "skimmer = NetworkSkimming(graph)\n",
    "skimmer.execute()"
   ]
  },
  {
   "cell_type": "code",
   "execution_count": 14,
   "metadata": {},
   "outputs": [
    {
     "data": {
      "text/plain": [
       "array([[0.00000000e+00, 2.08210301e+05, 1.96844618e+06, ...,\n",
       "        2.30752212e+05, 2.31110720e+05, 2.26458067e+05],\n",
       "       [2.47165989e+05, 0.00000000e+00, 2.04366321e+06, ...,\n",
       "        3.05969242e+05, 3.06327750e+05, 3.01675097e+05],\n",
       "       [1.96299604e+06, 2.03601550e+06, 0.00000000e+00, ...,\n",
       "        1.75525994e+06, 1.75561845e+06, 1.75709952e+06],\n",
       "       ...,\n",
       "       [2.29378467e+05, 3.02397928e+05, 1.75985749e+06, ...,\n",
       "        0.00000000e+00, 1.54895959e+03, 3.03003335e+03],\n",
       "       [2.29626108e+05, 3.02645569e+05, 1.76010513e+06, ...,\n",
       "        1.43809163e+03, 0.00000000e+00, 1.86561573e+03],\n",
       "       [2.25019026e+05, 2.98038487e+05, 1.76174415e+06, ...,\n",
       "        3.07710875e+03, 1.89506487e+03, 0.00000000e+00]])"
      ]
     },
     "execution_count": 14,
     "metadata": {},
     "output_type": "execute_result"
    }
   ],
   "source": [
    "skimmer.results.skims.distance"
   ]
  },
  {
   "cell_type": "code",
   "execution_count": 15,
   "metadata": {},
   "outputs": [
    {
     "data": {
      "text/plain": [
       "array([[0.00000000e+00, 3.54299335e+02, 2.48121136e+03, ...,\n",
       "        2.86413631e+02, 2.86151490e+02, 2.88266825e+02],\n",
       "       [3.53429163e+02, 0.00000000e+00, 2.58233037e+03, ...,\n",
       "        3.87532636e+02, 3.87270495e+02, 3.89385830e+02],\n",
       "       [2.50353592e+03, 2.60859558e+03, 0.00000000e+00, ...,\n",
       "        2.25222599e+03, 2.25196385e+03, 2.25514854e+03],\n",
       "       ...,\n",
       "       [2.78741510e+02, 3.83801176e+02, 2.22291488e+03, ...,\n",
       "        0.00000000e+00, 2.64542158e+00, 5.83011813e+00],\n",
       "       [2.78311411e+02, 3.83371077e+02, 2.22248479e+03, ...,\n",
       "        2.47746350e+00, 0.00000000e+00, 3.70308397e+00],\n",
       "       [2.81720163e+02, 3.86779829e+02, 2.22591373e+03, ...,\n",
       "        5.90640663e+00, 3.74153842e+00, 0.00000000e+00]])"
      ]
     },
     "execution_count": 15,
     "metadata": {},
     "output_type": "execute_result"
    }
   ],
   "source": [
    "skimmer.results.skims.ff_ttime"
   ]
  },
  {
   "attachments": {},
   "cell_type": "markdown",
   "metadata": {},
   "source": [
    "We can save this matrix to disk and add to the model"
   ]
  },
  {
   "cell_type": "code",
   "execution_count": 16,
   "metadata": {},
   "outputs": [],
   "source": [
    "skimmer.save_to_project(\"skim_matrix\")"
   ]
  },
  {
   "attachments": {},
   "cell_type": "markdown",
   "metadata": {},
   "source": [
    "## Matrices"
   ]
  },
  {
   "cell_type": "code",
   "execution_count": 17,
   "metadata": {},
   "outputs": [
    {
     "data": {
      "text/html": [
       "<div>\n",
       "<style scoped>\n",
       "    .dataframe tbody tr th:only-of-type {\n",
       "        vertical-align: middle;\n",
       "    }\n",
       "\n",
       "    .dataframe tbody tr th {\n",
       "        vertical-align: top;\n",
       "    }\n",
       "\n",
       "    .dataframe thead th {\n",
       "        text-align: right;\n",
       "    }\n",
       "</style>\n",
       "<table border=\"1\" class=\"dataframe\">\n",
       "  <thead>\n",
       "    <tr style=\"text-align: right;\">\n",
       "      <th></th>\n",
       "      <th>name</th>\n",
       "      <th>file_name</th>\n",
       "      <th>cores</th>\n",
       "      <th>procedure</th>\n",
       "      <th>procedure_id</th>\n",
       "      <th>timestamp</th>\n",
       "      <th>description</th>\n",
       "      <th>status</th>\n",
       "    </tr>\n",
       "  </thead>\n",
       "  <tbody>\n",
       "    <tr>\n",
       "      <th>0</th>\n",
       "      <td>base_demand</td>\n",
       "      <td>base_demand.aem</td>\n",
       "      <td>9</td>\n",
       "      <td>None</td>\n",
       "      <td>None</td>\n",
       "      <td>2023-05-30 03:52:33</td>\n",
       "      <td>None</td>\n",
       "      <td></td>\n",
       "    </tr>\n",
       "    <tr>\n",
       "      <th>1</th>\n",
       "      <td>skim_matrix</td>\n",
       "      <td>skim_matrix.omx</td>\n",
       "      <td>2</td>\n",
       "      <td>Network skimming</td>\n",
       "      <td>3e6a598e887b4195863ae15e2432d455</td>\n",
       "      <td>2023-05-30 14:23:27.520067</td>\n",
       "      <td>None</td>\n",
       "      <td></td>\n",
       "    </tr>\n",
       "  </tbody>\n",
       "</table>\n",
       "</div>"
      ],
      "text/plain": [
       "          name        file_name  cores         procedure  \\\n",
       "0  base_demand  base_demand.aem      9              None   \n",
       "1  skim_matrix  skim_matrix.omx      2  Network skimming   \n",
       "\n",
       "                       procedure_id                   timestamp description  \\\n",
       "0                              None         2023-05-30 03:52:33        None   \n",
       "1  3e6a598e887b4195863ae15e2432d455  2023-05-30 14:23:27.520067        None   \n",
       "\n",
       "  status  \n",
       "0         \n",
       "1         "
      ]
     },
     "execution_count": 17,
     "metadata": {},
     "output_type": "execute_result"
    }
   ],
   "source": [
    "project.matrices.list()"
   ]
  },
  {
   "cell_type": "code",
   "execution_count": 18,
   "metadata": {},
   "outputs": [
    {
     "data": {
      "text/plain": [
       "['red_cars_AM',\n",
       " 'blue_cars_AM',\n",
       " 'Trucks_AM',\n",
       " 'red_cars_MD',\n",
       " 'blue_cars_MD',\n",
       " 'Trucks_MD',\n",
       " 'red_cars_PM',\n",
       " 'blue_cars_PM',\n",
       " 'Trucks_PM']"
      ]
     },
     "execution_count": 18,
     "metadata": {},
     "output_type": "execute_result"
    }
   ],
   "source": [
    "mat = project.matrices.get_matrix(\"base_demand\")\n",
    "mat.names"
   ]
  },
  {
   "attachments": {},
   "cell_type": "markdown",
   "metadata": {},
   "source": [
    "Let's export only the matrices for the peak period"
   ]
  },
  {
   "cell_type": "code",
   "execution_count": 19,
   "metadata": {},
   "outputs": [],
   "source": [
    "mat.export(join(project.matrices.fldr, \"peak_demand.omx\"), cores=['red_cars_AM', 'blue_cars_AM', 'Trucks_AM', 'red_cars_PM', 'blue_cars_PM', 'Trucks_PM'])"
   ]
  },
  {
   "cell_type": "code",
   "execution_count": 20,
   "metadata": {},
   "outputs": [
    {
     "data": {
      "text/html": [
       "<div>\n",
       "<style scoped>\n",
       "    .dataframe tbody tr th:only-of-type {\n",
       "        vertical-align: middle;\n",
       "    }\n",
       "\n",
       "    .dataframe tbody tr th {\n",
       "        vertical-align: top;\n",
       "    }\n",
       "\n",
       "    .dataframe thead th {\n",
       "        text-align: right;\n",
       "    }\n",
       "</style>\n",
       "<table border=\"1\" class=\"dataframe\">\n",
       "  <thead>\n",
       "    <tr style=\"text-align: right;\">\n",
       "      <th></th>\n",
       "      <th>name</th>\n",
       "      <th>file_name</th>\n",
       "      <th>cores</th>\n",
       "      <th>procedure</th>\n",
       "      <th>procedure_id</th>\n",
       "      <th>timestamp</th>\n",
       "      <th>description</th>\n",
       "      <th>status</th>\n",
       "    </tr>\n",
       "  </thead>\n",
       "  <tbody>\n",
       "    <tr>\n",
       "      <th>0</th>\n",
       "      <td>base_demand</td>\n",
       "      <td>base_demand.aem</td>\n",
       "      <td>9</td>\n",
       "      <td>None</td>\n",
       "      <td>None</td>\n",
       "      <td>2023-05-30 03:52:33</td>\n",
       "      <td>None</td>\n",
       "      <td></td>\n",
       "    </tr>\n",
       "    <tr>\n",
       "      <th>1</th>\n",
       "      <td>skim_matrix</td>\n",
       "      <td>skim_matrix.omx</td>\n",
       "      <td>2</td>\n",
       "      <td>Network skimming</td>\n",
       "      <td>3e6a598e887b4195863ae15e2432d455</td>\n",
       "      <td>2023-05-30 14:23:27.520067</td>\n",
       "      <td>None</td>\n",
       "      <td></td>\n",
       "    </tr>\n",
       "    <tr>\n",
       "      <th>2</th>\n",
       "      <td>peak_demand_omx</td>\n",
       "      <td>peak_demand.omx</td>\n",
       "      <td>6</td>\n",
       "      <td>None</td>\n",
       "      <td>None</td>\n",
       "      <td>2023-05-30 04:23:28</td>\n",
       "      <td>None</td>\n",
       "      <td></td>\n",
       "    </tr>\n",
       "  </tbody>\n",
       "</table>\n",
       "</div>"
      ],
      "text/plain": [
       "              name        file_name  cores         procedure  \\\n",
       "0      base_demand  base_demand.aem      9              None   \n",
       "1      skim_matrix  skim_matrix.omx      2  Network skimming   \n",
       "2  peak_demand_omx  peak_demand.omx      6              None   \n",
       "\n",
       "                       procedure_id                   timestamp description  \\\n",
       "0                              None         2023-05-30 03:52:33        None   \n",
       "1  3e6a598e887b4195863ae15e2432d455  2023-05-30 14:23:27.520067        None   \n",
       "2                              None         2023-05-30 04:23:28        None   \n",
       "\n",
       "  status  \n",
       "0         \n",
       "1         \n",
       "2         "
      ]
     },
     "execution_count": 20,
     "metadata": {},
     "output_type": "execute_result"
    }
   ],
   "source": [
    "project.matrices.update_database()\n",
    "project.matrices.list()"
   ]
  },
  {
   "attachments": {},
   "cell_type": "markdown",
   "metadata": {},
   "source": [
    "## Assignment\n",
    "\n",
    "Let's assign only a few of the matrices we exported"
   ]
  },
  {
   "cell_type": "code",
   "execution_count": 21,
   "metadata": {},
   "outputs": [],
   "source": [
    "demand_cars = project.matrices.get_matrix(\"peak_demand_omx\")\n",
    "demand_cars.computational_view(['red_cars_AM', 'blue_cars_AM'])"
   ]
  },
  {
   "cell_type": "code",
   "execution_count": 22,
   "metadata": {},
   "outputs": [],
   "source": [
    "demand_trucks = project.matrices.get_matrix(\"peak_demand_omx\")\n",
    "demand_trucks.computational_view(['Trucks_AM'])"
   ]
  },
  {
   "cell_type": "code",
   "execution_count": 23,
   "metadata": {
    "collapsed": false,
    "jupyter": {
     "outputs_hidden": false
    },
    "tags": []
   },
   "outputs": [],
   "source": [
    "from aequilibrae.paths import TrafficAssignment, TrafficClass"
   ]
  },
  {
   "cell_type": "code",
   "execution_count": 24,
   "metadata": {},
   "outputs": [],
   "source": [
    "\n",
    "# Create the assignment class\n",
    "car_class = TrafficClass(name=\"car\", graph=graph, matrix=demand_cars)\n",
    "truck_class = TrafficClass(name=\"truck\", graph=graph, matrix=demand_trucks)\n",
    "\n",
    "truck_class.set_pce(1.8)\n",
    "# truck_class.set_select_links()\n",
    "# truck_class.set_vot()\n",
    "# truck_class.set_fixed_cost()"
   ]
  },
  {
   "cell_type": "code",
   "execution_count": 25,
   "metadata": {
    "collapsed": false,
    "jupyter": {
     "outputs_hidden": false
    },
    "tags": []
   },
   "outputs": [],
   "source": [
    "\n",
    "assig = TrafficAssignment()\n",
    "\n",
    "# The first thing to do is to add at list of traffic classes to be assigned\n",
    "assig.add_class(car_class)\n",
    "assig.add_class(truck_class)\n",
    "\n",
    "# We set these parameters only after adding one class to the assignment\n",
    "assig.set_vdf(\"BPR\")  # This is not case-sensitive\n",
    "\n",
    "# Then we set the volume delay function\n",
    "assig.set_vdf_parameters({\"alpha\": 0.15, \"beta\": 4.0})  # And its parameters\n",
    "\n",
    "assig.set_capacity_field(\"capacity\")  # The capacity and free flow travel times as they exist in the graph\n",
    "assig.set_time_field(\"ff_ttime\")\n",
    "\n",
    "# And the algorithm we want to use to assign\n",
    "assig.set_algorithm(\"bfw\")\n",
    "\n",
    "# Since I haven't checked the parameters file, let's make sure convergence criteria is good\n",
    "assig.max_iter = 5\n",
    "assig.rgap_target = 0.0001\n",
    "\n",
    "assig.execute()  # we then execute the assignment"
   ]
  },
  {
   "cell_type": "code",
   "execution_count": 26,
   "metadata": {},
   "outputs": [
    {
     "data": {
      "text/html": [
       "<div>\n",
       "<style scoped>\n",
       "    .dataframe tbody tr th:only-of-type {\n",
       "        vertical-align: middle;\n",
       "    }\n",
       "\n",
       "    .dataframe tbody tr th {\n",
       "        vertical-align: top;\n",
       "    }\n",
       "\n",
       "    .dataframe thead th {\n",
       "        text-align: right;\n",
       "    }\n",
       "</style>\n",
       "<table border=\"1\" class=\"dataframe\">\n",
       "  <thead>\n",
       "    <tr style=\"text-align: right;\">\n",
       "      <th></th>\n",
       "      <th>iteration</th>\n",
       "      <th>rgap</th>\n",
       "      <th>alpha</th>\n",
       "      <th>warnings</th>\n",
       "      <th>beta0</th>\n",
       "      <th>beta1</th>\n",
       "      <th>beta2</th>\n",
       "    </tr>\n",
       "  </thead>\n",
       "  <tbody>\n",
       "    <tr>\n",
       "      <th>0</th>\n",
       "      <td>1</td>\n",
       "      <td>inf</td>\n",
       "      <td>1.000000</td>\n",
       "      <td></td>\n",
       "      <td>1.00000</td>\n",
       "      <td>0.00000</td>\n",
       "      <td>0.0</td>\n",
       "    </tr>\n",
       "    <tr>\n",
       "      <th>1</th>\n",
       "      <td>2</td>\n",
       "      <td>0.551868</td>\n",
       "      <td>0.420385</td>\n",
       "      <td></td>\n",
       "      <td>1.00000</td>\n",
       "      <td>0.00000</td>\n",
       "      <td>0.0</td>\n",
       "    </tr>\n",
       "    <tr>\n",
       "      <th>2</th>\n",
       "      <td>3</td>\n",
       "      <td>0.150826</td>\n",
       "      <td>0.184132</td>\n",
       "      <td></td>\n",
       "      <td>1.00000</td>\n",
       "      <td>0.00000</td>\n",
       "      <td>0.0</td>\n",
       "    </tr>\n",
       "    <tr>\n",
       "      <th>3</th>\n",
       "      <td>4</td>\n",
       "      <td>0.037613</td>\n",
       "      <td>0.073601</td>\n",
       "      <td></td>\n",
       "      <td>1.00000</td>\n",
       "      <td>0.00000</td>\n",
       "      <td>0.0</td>\n",
       "    </tr>\n",
       "    <tr>\n",
       "      <th>4</th>\n",
       "      <td>5</td>\n",
       "      <td>0.030225</td>\n",
       "      <td>0.085541</td>\n",
       "      <td></td>\n",
       "      <td>0.79083</td>\n",
       "      <td>0.20917</td>\n",
       "      <td>0.0</td>\n",
       "    </tr>\n",
       "  </tbody>\n",
       "</table>\n",
       "</div>"
      ],
      "text/plain": [
       "   iteration      rgap     alpha warnings    beta0    beta1  beta2\n",
       "0          1       inf  1.000000           1.00000  0.00000    0.0\n",
       "1          2  0.551868  0.420385           1.00000  0.00000    0.0\n",
       "2          3  0.150826  0.184132           1.00000  0.00000    0.0\n",
       "3          4  0.037613  0.073601           1.00000  0.00000    0.0\n",
       "4          5  0.030225  0.085541           0.79083  0.20917    0.0"
      ]
     },
     "execution_count": 26,
     "metadata": {},
     "output_type": "execute_result"
    }
   ],
   "source": [
    "assig.report()"
   ]
  },
  {
   "cell_type": "code",
   "execution_count": 27,
   "metadata": {},
   "outputs": [
    {
     "data": {
      "text/plain": [
       "red_cars_AM_ab        3402.933333\n",
       "red_cars_AM_ba        3413.275000\n",
       "red_cars_AM_tot       6816.208333\n",
       "blue_cars_AM_ab        880.941667\n",
       "blue_cars_AM_ba        888.533333\n",
       "blue_cars_AM_tot      1769.475000\n",
       "Trucks_AM_ab             9.780088\n",
       "Trucks_AM_ba            12.630000\n",
       "Trucks_AM_tot           20.243333\n",
       "Congested_Time_AB       65.107927\n",
       "Congested_Time_BA       65.107927\n",
       "Congested_Time_Max      65.107927\n",
       "Delay_factor_AB         53.783730\n",
       "Delay_factor_BA         53.783730\n",
       "Delay_factor_Max        53.783730\n",
       "VOC_AB                   4.331140\n",
       "VOC_BA                   4.331140\n",
       "VOC_max                  4.331140\n",
       "PCE_AB                4297.579000\n",
       "PCE_BA                4324.542333\n",
       "PCE_tot               8622.121333\n",
       "dtype: float64"
      ]
     },
     "execution_count": 27,
     "metadata": {},
     "output_type": "execute_result"
    }
   ],
   "source": [
    "assig.results().max()"
   ]
  },
  {
   "cell_type": "code",
   "execution_count": 28,
   "metadata": {},
   "outputs": [],
   "source": [
    "assig.save_results(\"tutorial\")"
   ]
  },
  {
   "attachments": {},
   "cell_type": "markdown",
   "metadata": {},
   "source": [
    "If you want to show the path in Python\n",
    "We do NOT recommend this, though....  It is very slow for real networks\n",
    "\n"
   ]
  },
  {
   "cell_type": "code",
   "execution_count": null,
   "metadata": {
    "collapsed": false,
    "jupyter": {
     "outputs_hidden": false
    },
    "tags": []
   },
   "outputs": [],
   "source": [
    "import matplotlib.pyplot as plt\n",
    "from shapely.ops import linemerge"
   ]
  },
  {
   "cell_type": "code",
   "execution_count": null,
   "metadata": {
    "collapsed": false,
    "jupyter": {
     "outputs_hidden": false
    },
    "tags": []
   },
   "outputs": [],
   "source": [
    "# links = project.network.links\n",
    "\n",
    "# # We plot the entire network\n",
    "# curr = project.conn.cursor()\n",
    "# curr.execute(\"Select link_id from links;\")\n",
    "\n",
    "# for lid in curr.fetchall():\n",
    "#     geo = links.get(lid[0]).geometry\n",
    "#     plt.plot(*geo.xy, color=\"red\")\n",
    "\n",
    "# path_geometry = linemerge(links.get(lid).geometry for lid in res.path)\n",
    "# plt.plot(*path_geometry.xy, color=\"blue\", linestyle=\"dashed\", linewidth=2)\n",
    "# plt.show()"
   ]
  }
 ],
 "metadata": {
  "kernelspec": {
   "display_name": "Python 3 (ipykernel)",
   "language": "python",
   "name": "python3"
  },
  "language_info": {
   "codemirror_mode": {
    "name": "ipython",
    "version": 3
   },
   "file_extension": ".py",
   "mimetype": "text/x-python",
   "name": "python",
   "nbconvert_exporter": "python",
   "pygments_lexer": "ipython3",
   "version": "3.10.11"
  }
 },
 "nbformat": 4,
 "nbformat_minor": 4
}
